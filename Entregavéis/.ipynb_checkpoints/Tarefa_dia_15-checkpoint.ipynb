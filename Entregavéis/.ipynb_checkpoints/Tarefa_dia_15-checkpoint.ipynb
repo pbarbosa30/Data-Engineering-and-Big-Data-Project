{
 "cells": [
  {
   "cell_type": "code",
   "execution_count": 2,
   "id": "2b1748a7-9d5a-4bd4-8f85-9fe9ed6f5aa6",
   "metadata": {},
   "outputs": [
    {
     "name": "stdout",
     "output_type": "stream",
     "text": [
      "<pyspark.sql.session.SparkSession object at 0x0000020806DF20E0>\n"
     ]
    }
   ],
   "source": [
    "from pyspark.sql import SparkSession\n",
    "\n",
    "# Criar uma sessão do Spark\n",
    "spark = SparkSession.builder \\\n",
    "    .appName(\"TestePySpark\") \\\n",
    "    .getOrCreate()\n",
    "\n",
    "# Checar se está funcionando\n",
    "print(spark)\n"
   ]
  },
  {
   "cell_type": "code",
   "execution_count": 5,
   "id": "98a2f7e6-a1d5-460f-84d4-2caea5cc08aa",
   "metadata": {},
   "outputs": [
    {
     "name": "stdout",
     "output_type": "stream",
     "text": [
      "+-----+-----+--------------+\n",
      "| nome|idade|        cidade|\n",
      "+-----+-----+--------------+\n",
      "|  Ana|   25|     São Paulo|\n",
      "| João|   30|Rio de Janeiro|\n",
      "|Maria|   22|Belo Horizonte|\n",
      "|Pedro|   28|      Curitiba|\n",
      "+-----+-----+--------------+\n",
      "\n"
     ]
    }
   ],
   "source": [
    "df = spark.read.csv(r\"C:\\Users\\Visitante\\Desktop\\Bootcamp\\Data-Engineering-and-Big-Data-Project\\Datasets\\teste.csv\",\n",
    "                    header=True, inferSchema=True)\n",
    "df.show()\n",
    "\n"
   ]
  },
  {
   "cell_type": "code",
   "execution_count": null,
   "id": "f494e670-0f73-4bda-b40a-d8bc07ffccff",
   "metadata": {},
   "outputs": [],
   "source": []
  }
 ],
 "metadata": {
  "kernelspec": {
   "display_name": "Python (PySpark)",
   "language": "python",
   "name": "pyspark_env"
  },
  "language_info": {
   "codemirror_mode": {
    "name": "ipython",
    "version": 3
   },
   "file_extension": ".py",
   "mimetype": "text/x-python",
   "name": "python",
   "nbconvert_exporter": "python",
   "pygments_lexer": "ipython3",
   "version": "3.10.18"
  }
 },
 "nbformat": 4,
 "nbformat_minor": 5
}
